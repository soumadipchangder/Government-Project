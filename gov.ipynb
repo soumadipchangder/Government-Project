{
 "cells": [
  {
   "cell_type": "code",
   "execution_count": 1,
   "metadata": {},
   "outputs": [
    {
     "name": "stdout",
     "output_type": "stream",
     "text": [
      "Enter Basic Data (User Level)\n",
      "Enter Admin Data (Stock & Damage)\n",
      "Data successfully saved to 'Processed_Food_Stock.xlsx'\n"
     ]
    }
   ],
   "source": [
    "import pandas as pd\n",
    "\n",
    "# Load the Excel file\n",
    "file_path = \"/Users/soumyadip/Desktop/Government Project/AWC Supervisor Compilation Sheet for Requisition of Food Stuff.xlsx\"  # Update the file name if needed\n",
    "xls = pd.ExcelFile(file_path)\n",
    "\n",
    "# Load the first sheet (Assuming 'Sector 1' is the main sheet)\n",
    "df = xls.parse(sheet_name=\"Sector 1\", skiprows=4)  # Adjust skiprows if headers are different\n",
    "# Set proper column names\n",
    "df.columns = df.iloc[0].astype(str)\n",
    "df = df[1:].reset_index(drop=True)\n",
    "\n",
    "# Extract sections dynamically\n",
    "basic_data_columns = [col for col in df.columns if 'Enrolled' in col or 'Sector' in col or 'Name' in col or '11 Digit' in col]\n",
    "admin_columns = df.columns[20:40]  # Adjust range as per identified columns\n",
    "consumption_columns = df.columns[40:50]  # Adjust based on ration-related calculations\n",
    "\n",
    "df_basic = df[basic_data_columns]  # Entry-level inputs\n",
    "df_admin = df[admin_columns]  # Admin-level inputs\n",
    "df_consumption = df[consumption_columns]  # Derived consumption values\n",
    "\n",
    "# Function to allow user input for basic data\n",
    "def get_user_input():\n",
    "    user_data = {}\n",
    "    for col in basic_data_columns:\n",
    "        user_data[col] = input(f\"Enter {col}: \")\n",
    "    return pd.DataFrame([user_data])\n",
    "\n",
    "# Function to allow admin input for stock and damage\n",
    "def get_admin_input():\n",
    "    admin_data = {}\n",
    "    for col in admin_columns:\n",
    "        admin_data[col] = input(f\"Enter {col} (Admin only): \")\n",
    "    return pd.DataFrame([admin_data])\n",
    "\n",
    "# Run the input functions\n",
    "print(\"Enter Basic Data (User Level)\")\n",
    "basic_input = get_user_input()\n",
    "\n",
    "print(\"Enter Admin Data (Stock & Damage)\")\n",
    "admin_input = get_admin_input()\n",
    "\n",
    "# Combine inputs into a final dataframe\n",
    "final_data = pd.concat([basic_input, admin_input], axis=1)\n",
    "\n",
    "# Save the processed data\n",
    "final_data.to_excel(\"Processed_Food_Stock.xlsx\", index=False)\n",
    "print(\"Data successfully saved to 'Processed_Food_Stock.xlsx'\")\n"
   ]
  },
  {
   "cell_type": "code",
   "execution_count": null,
   "metadata": {},
   "outputs": [],
   "source": []
  }
 ],
 "metadata": {
  "kernelspec": {
   "display_name": "Python 3",
   "language": "python",
   "name": "python3"
  },
  "language_info": {
   "codemirror_mode": {
    "name": "ipython",
    "version": 3
   },
   "file_extension": ".py",
   "mimetype": "text/x-python",
   "name": "python",
   "nbconvert_exporter": "python",
   "pygments_lexer": "ipython3",
   "version": "3.9.6"
  }
 },
 "nbformat": 4,
 "nbformat_minor": 2
}
